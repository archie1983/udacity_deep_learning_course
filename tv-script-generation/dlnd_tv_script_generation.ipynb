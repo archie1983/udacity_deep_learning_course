{
 "cells": [
  {
   "cell_type": "markdown",
   "metadata": {},
   "source": [
    "# TV Script Generation\n",
    "In this project, you'll generate your own [Simpsons](https://en.wikipedia.org/wiki/The_Simpsons) TV scripts using RNNs.  You'll be using part of the [Simpsons dataset](https://www.kaggle.com/wcukierski/the-simpsons-by-the-data) of scripts from 27 seasons.  The Neural Network you'll build will generate a new TV script for a scene at [Moe's Tavern](https://simpsonswiki.com/wiki/Moe's_Tavern).\n",
    "## Get the Data\n",
    "The data is already provided for you.  You'll be using a subset of the original dataset.  It consists of only the scenes in Moe's Tavern.  This doesn't include other versions of the tavern, like \"Moe's Cavern\", \"Flaming Moe's\", \"Uncle Moe's Family Feed-Bag\", etc.."
   ]
  },
  {
   "cell_type": "code",
   "execution_count": 1,
   "metadata": {},
   "outputs": [],
   "source": [
    "\"\"\"\n",
    "DON'T MODIFY ANYTHING IN THIS CELL\n",
    "\"\"\"\n",
    "import helper\n",
    "\n",
    "data_dir = './data/simpsons/moes_tavern_lines.txt'\n",
    "text = helper.load_data(data_dir)\n",
    "# Ignore notice, since we don't use it for analysing the data\n",
    "text = text[81:]"
   ]
  },
  {
   "cell_type": "markdown",
   "metadata": {},
   "source": [
    "## Explore the Data\n",
    "Play around with `view_sentence_range` to view different parts of the data."
   ]
  },
  {
   "cell_type": "code",
   "execution_count": 2,
   "metadata": {},
   "outputs": [
    {
     "name": "stdout",
     "output_type": "stream",
     "text": [
      "Dataset Stats\n",
      "Roughly the number of unique words: 11492\n",
      "Number of scenes: 262\n",
      "Average number of sentences in each scene: 15.248091603053435\n",
      "Number of lines: 4257\n",
      "Average number of words in each line: 11.50434578341555\n",
      "\n",
      "The sentences 0 to 10:\n",
      "Moe_Szyslak: (INTO PHONE) Moe's Tavern. Where the elite meet to drink.\n",
      "Bart_Simpson: Eh, yeah, hello, is Mike there? Last name, Rotch.\n",
      "Moe_Szyslak: (INTO PHONE) Hold on, I'll check. (TO BARFLIES) Mike Rotch. Mike Rotch. Hey, has anybody seen Mike Rotch, lately?\n",
      "Moe_Szyslak: (INTO PHONE) Listen you little puke. One of these days I'm gonna catch you, and I'm gonna carve my name on your back with an ice pick.\n",
      "Moe_Szyslak: What's the matter Homer? You're not your normal effervescent self.\n",
      "Homer_Simpson: I got my problems, Moe. Give me another one.\n",
      "Moe_Szyslak: Homer, hey, you should not drink to forget your problems.\n",
      "Barney_Gumble: Yeah, you should only drink to enhance your social skills.\n",
      "\n",
      "\n"
     ]
    }
   ],
   "source": [
    "view_sentence_range = (0, 10)\n",
    "\n",
    "\"\"\"\n",
    "DON'T MODIFY ANYTHING IN THIS CELL\n",
    "\"\"\"\n",
    "import numpy as np\n",
    "\n",
    "print('Dataset Stats')\n",
    "print('Roughly the number of unique words: {}'.format(len({word: None for word in text.split()})))\n",
    "scenes = text.split('\\n\\n')\n",
    "print('Number of scenes: {}'.format(len(scenes)))\n",
    "sentence_count_scene = [scene.count('\\n') for scene in scenes]\n",
    "print('Average number of sentences in each scene: {}'.format(np.average(sentence_count_scene)))\n",
    "\n",
    "sentences = [sentence for scene in scenes for sentence in scene.split('\\n')]\n",
    "print('Number of lines: {}'.format(len(sentences)))\n",
    "word_count_sentence = [len(sentence.split()) for sentence in sentences]\n",
    "print('Average number of words in each line: {}'.format(np.average(word_count_sentence)))\n",
    "\n",
    "print()\n",
    "print('The sentences {} to {}:'.format(*view_sentence_range))\n",
    "print('\\n'.join(text.split('\\n')[view_sentence_range[0]:view_sentence_range[1]]))"
   ]
  },
  {
   "cell_type": "markdown",
   "metadata": {},
   "source": [
    "## Implement Preprocessing Functions\n",
    "The first thing to do to any dataset is preprocessing.  Implement the following preprocessing functions below:\n",
    "- Lookup Table\n",
    "- Tokenize Punctuation\n",
    "\n",
    "### Lookup Table\n",
    "To create a word embedding, you first need to transform the words to ids.  In this function, create two dictionaries:\n",
    "- Dictionary to go from the words to an id, we'll call `vocab_to_int`\n",
    "- Dictionary to go from the id to word, we'll call `int_to_vocab`\n",
    "\n",
    "Return these dictionaries in the following tuple `(vocab_to_int, int_to_vocab)`"
   ]
  },
  {
   "cell_type": "code",
   "execution_count": 7,
   "metadata": {},
   "outputs": [
    {
     "name": "stdout",
     "output_type": "stream",
     "text": [
      "Tests Passed\n"
     ]
    }
   ],
   "source": [
    "import numpy as np\n",
    "import problem_unittests as tests\n",
    "# AE: we'll need counter to create unique word list\n",
    "from collections import Counter\n",
    "\n",
    "def create_lookup_tables(text):\n",
    "    \"\"\"\n",
    "    Create lookup tables for vocabulary\n",
    "    :param text: The text of tv scripts split into words\n",
    "    :return: A tuple of dicts (vocab_to_int, int_to_vocab)\n",
    "    \"\"\"\n",
    "    # AE: Implementation\n",
    "    unique_words = Counter(text)\n",
    "    vocab_to_int = dict(zip(unique_words.keys(), range(len(unique_words))))\n",
    "    int_to_vocab = dict(zip(range(len(unique_words)), unique_words.keys()))\n",
    "    #print(text[:10])\n",
    "    #print(len(text), \" \", len(unique_words))\n",
    "    return (vocab_to_int, int_to_vocab)\n",
    "\n",
    "\n",
    "\"\"\"\n",
    "DON'T MODIFY ANYTHING IN THIS CELL THAT IS BELOW THIS LINE\n",
    "\"\"\"\n",
    "tests.test_create_lookup_tables(create_lookup_tables)"
   ]
  },
  {
   "cell_type": "markdown",
   "metadata": {},
   "source": [
    "### Tokenize Punctuation\n",
    "We'll be splitting the script into a word array using spaces as delimiters.  However, punctuations like periods and exclamation marks make it hard for the neural network to distinguish between the word \"bye\" and \"bye!\".\n",
    "\n",
    "Implement the function `token_lookup` to return a dict that will be used to tokenize symbols like \"!\" into \"||Exclamation_Mark||\".  Create a dictionary for the following symbols where the symbol is the key and value is the token:\n",
    "- Period ( . )\n",
    "- Comma ( , )\n",
    "- Quotation Mark ( \" )\n",
    "- Semicolon ( ; )\n",
    "- Exclamation mark ( ! )\n",
    "- Question mark ( ? )\n",
    "- Left Parentheses ( ( )\n",
    "- Right Parentheses ( ) )\n",
    "- Dash ( -- )\n",
    "- Return ( \\n )\n",
    "\n",
    "This dictionary will be used to token the symbols and add the delimiter (space) around it.  This separates the symbols as it's own word, making it easier for the neural network to predict on the next word. Make sure you don't use a token that could be confused as a word. Instead of using the token \"dash\", try using something like \"||dash||\"."
   ]
  },
  {
   "cell_type": "code",
   "execution_count": 9,
   "metadata": {},
   "outputs": [
    {
     "name": "stdout",
     "output_type": "stream",
     "text": [
      "Tests Passed\n"
     ]
    }
   ],
   "source": [
    "def token_lookup():\n",
    "    \"\"\"\n",
    "    Generate a dict to turn punctuation into a token.\n",
    "    :return: Tokenize dictionary where the key is the punctuation and the value is the token\n",
    "    \"\"\"\n",
    "    # AE: Implementation\n",
    "    punctuations = ['.', ',', '\"', ';', '!', '?', '(', ')', '--', '\\n']\n",
    "    tokens = ['||period||', '||comma||', '||quotation_mark||', '||semicolon||', '||exclamation_mark||', '||question_mark||', '||l_parenthesis||', '||r_parenthesis||', '||double_dash||', '||new_line||']\n",
    "    return dict(zip(punctuations, tokens))\n",
    "\n",
    "\"\"\"\n",
    "DON'T MODIFY ANYTHING IN THIS CELL THAT IS BELOW THIS LINE\n",
    "\"\"\"\n",
    "tests.test_tokenize(token_lookup)"
   ]
  },
  {
   "cell_type": "markdown",
   "metadata": {},
   "source": [
    "## Preprocess all the data and save it\n",
    "Running the code cell below will preprocess all the data and save it to file."
   ]
  },
  {
   "cell_type": "code",
   "execution_count": 10,
   "metadata": {},
   "outputs": [],
   "source": [
    "\"\"\"\n",
    "DON'T MODIFY ANYTHING IN THIS CELL\n",
    "\"\"\"\n",
    "# Preprocess Training, Validation, and Testing Data\n",
    "helper.preprocess_and_save_data(data_dir, token_lookup, create_lookup_tables)"
   ]
  },
  {
   "cell_type": "markdown",
   "metadata": {},
   "source": [
    "# Check Point\n",
    "This is your first checkpoint. If you ever decide to come back to this notebook or have to restart the notebook, you can start from here. The preprocessed data has been saved to disk."
   ]
  },
  {
   "cell_type": "code",
   "execution_count": 1,
   "metadata": {},
   "outputs": [],
   "source": [
    "\"\"\"\n",
    "DON'T MODIFY ANYTHING IN THIS CELL\n",
    "\"\"\"\n",
    "import helper\n",
    "import numpy as np\n",
    "import problem_unittests as tests\n",
    "\n",
    "int_text, vocab_to_int, int_to_vocab, token_dict = helper.load_preprocess()"
   ]
  },
  {
   "cell_type": "markdown",
   "metadata": {},
   "source": [
    "## Build the Neural Network\n",
    "You'll build the components necessary to build a RNN by implementing the following functions below:\n",
    "- get_inputs\n",
    "- get_init_cell\n",
    "- get_embed\n",
    "- build_rnn\n",
    "- build_nn\n",
    "- get_batches\n",
    "\n",
    "### Check the Version of TensorFlow and Access to GPU"
   ]
  },
  {
   "cell_type": "code",
   "execution_count": 2,
   "metadata": {},
   "outputs": [
    {
     "name": "stdout",
     "output_type": "stream",
     "text": [
      "TensorFlow Version: 1.3.0\n",
      "Default GPU Device: /gpu:0\n"
     ]
    }
   ],
   "source": [
    "\"\"\"\n",
    "DON'T MODIFY ANYTHING IN THIS CELL\n",
    "\"\"\"\n",
    "from distutils.version import LooseVersion\n",
    "import warnings\n",
    "import tensorflow as tf\n",
    "\n",
    "# Check TensorFlow Version\n",
    "assert LooseVersion(tf.__version__) >= LooseVersion('1.3'), 'Please use TensorFlow version 1.3 or newer'\n",
    "print('TensorFlow Version: {}'.format(tf.__version__))\n",
    "\n",
    "# Check for a GPU\n",
    "if not tf.test.gpu_device_name():\n",
    "    warnings.warn('No GPU found. Please use a GPU to train your neural network.')\n",
    "else:\n",
    "    print('Default GPU Device: {}'.format(tf.test.gpu_device_name()))"
   ]
  },
  {
   "cell_type": "markdown",
   "metadata": {},
   "source": [
    "### Input\n",
    "Implement the `get_inputs()` function to create TF Placeholders for the Neural Network.  It should create the following placeholders:\n",
    "- Input text placeholder named \"input\" using the [TF Placeholder](https://www.tensorflow.org/api_docs/python/tf/placeholder) `name` parameter.\n",
    "- Targets placeholder\n",
    "- Learning Rate placeholder\n",
    "\n",
    "Return the placeholders in the following tuple `(Input, Targets, LearningRate)`"
   ]
  },
  {
   "cell_type": "code",
   "execution_count": 3,
   "metadata": {},
   "outputs": [
    {
     "name": "stdout",
     "output_type": "stream",
     "text": [
      "Tests Passed\n"
     ]
    }
   ],
   "source": [
    "def get_inputs():\n",
    "    \"\"\"\n",
    "    Create TF Placeholders for input, targets, and learning rate.\n",
    "    :return: Tuple (input, targets, learning rate)\n",
    "    \"\"\"\n",
    "    # TODO: Implement Function\n",
    "    input_ph = tf.placeholder(dtype=tf.int32, shape=[None, None], name='input')\n",
    "    targets_ph = tf.placeholder(dtype=tf.int32, shape=[None, None], name='targets')\n",
    "    learning_rate_ph = tf.placeholder(dtype=tf.float32, shape=None, name='learning_rate')\n",
    "    return (input_ph, targets_ph, learning_rate_ph)\n",
    "\n",
    "\n",
    "\"\"\"\n",
    "DON'T MODIFY ANYTHING IN THIS CELL THAT IS BELOW THIS LINE\n",
    "\"\"\"\n",
    "tests.test_get_inputs(get_inputs)"
   ]
  },
  {
   "cell_type": "markdown",
   "metadata": {},
   "source": [
    "### Build RNN Cell and Initialize\n",
    "Stack one or more [`BasicLSTMCells`](https://www.tensorflow.org/api_docs/python/tf/contrib/rnn/BasicLSTMCell) in a [`MultiRNNCell`](https://www.tensorflow.org/api_docs/python/tf/contrib/rnn/MultiRNNCell).\n",
    "- The Rnn size should be set using `rnn_size`\n",
    "- Initalize Cell State using the MultiRNNCell's [`zero_state()`](https://www.tensorflow.org/api_docs/python/tf/contrib/rnn/MultiRNNCell#zero_state) function\n",
    "    - Apply the name \"initial_state\" to the initial state using [`tf.identity()`](https://www.tensorflow.org/api_docs/python/tf/identity)\n",
    "\n",
    "Return the cell and initial state in the following tuple `(Cell, InitialState)`"
   ]
  },
  {
   "cell_type": "code",
   "execution_count": 4,
   "metadata": {},
   "outputs": [
    {
     "name": "stdout",
     "output_type": "stream",
     "text": [
      "Tests Passed\n"
     ]
    }
   ],
   "source": [
    "def get_init_cell(batch_size, rnn_size):\n",
    "    \"\"\"\n",
    "    Create an RNN Cell and initialize it.\n",
    "    :param batch_size: Size of batches\n",
    "    :param rnn_size: Size of RNNs\n",
    "    :return: Tuple (cell, initialize state)\n",
    "    \"\"\"\n",
    "    \n",
    "    # AE: With the latest TF we can't anymore do: tf.contrib.rnn.MultiRNNCell([lstm_cell] * number_of_cells)\n",
    "    # AE: That would just create an RNN cell that consists of the same lstm_cell passed in several times.\n",
    "    # AE: We really need to create separate cells (separate instances) that we pass in that list.\n",
    "    def makeLSTMCells(how_many):\n",
    "        return [tf.contrib.rnn.BasicLSTMCell(rnn_size) for i in range(how_many)]\n",
    "\n",
    "    lstm_tower = tf.contrib.rnn.MultiRNNCell(makeLSTMCells(2))\n",
    "    # TODO: Implement Function\n",
    "    initial_state = lstm_tower.zero_state(batch_size, tf.float32)\n",
    "    initial_state = tf.identity(input=initial_state, name='initial_state')\n",
    "    return (lstm_tower, initial_state)\n",
    "\n",
    "\n",
    "\"\"\"\n",
    "DON'T MODIFY ANYTHING IN THIS CELL THAT IS BELOW THIS LINE\n",
    "\"\"\"\n",
    "tests.test_get_init_cell(get_init_cell)"
   ]
  },
  {
   "cell_type": "markdown",
   "metadata": {},
   "source": [
    "### Word Embedding\n",
    "Apply embedding to `input_data` using TensorFlow.  Return the embedded sequence."
   ]
  },
  {
   "cell_type": "code",
   "execution_count": 5,
   "metadata": {},
   "outputs": [
    {
     "name": "stdout",
     "output_type": "stream",
     "text": [
      "Tests Passed\n"
     ]
    }
   ],
   "source": [
    "def get_embed(input_data, vocab_size, embed_dim):\n",
    "    \"\"\"\n",
    "    Create embedding for <input_data>.\n",
    "    :param input_data: TF placeholder for text input.\n",
    "    :param vocab_size: Number of words in vocabulary.\n",
    "    :param embed_dim: Number of embedding dimensions\n",
    "    :return: Embedded input.\n",
    "    \"\"\"\n",
    "    # TODO: Implement Function\n",
    "    embedding = tf.Variable(tf.random_uniform((vocab_size, embed_dim), -1, 1))\n",
    "    embed = tf.nn.embedding_lookup(embedding, input_data)\n",
    "    return embed\n",
    "\n",
    "\n",
    "\"\"\"\n",
    "DON'T MODIFY ANYTHING IN THIS CELL THAT IS BELOW THIS LINE\n",
    "\"\"\"\n",
    "tests.test_get_embed(get_embed)"
   ]
  },
  {
   "cell_type": "markdown",
   "metadata": {},
   "source": [
    "### Build RNN\n",
    "You created a RNN Cell in the `get_init_cell()` function.  Time to use the cell to create a RNN.\n",
    "- Build the RNN using the [`tf.nn.dynamic_rnn()`](https://www.tensorflow.org/api_docs/python/tf/nn/dynamic_rnn)\n",
    " - Apply the name \"final_state\" to the final state using [`tf.identity()`](https://www.tensorflow.org/api_docs/python/tf/identity)\n",
    "\n",
    "Return the outputs and final_state state in the following tuple `(Outputs, FinalState)` "
   ]
  },
  {
   "cell_type": "code",
   "execution_count": 6,
   "metadata": {},
   "outputs": [
    {
     "name": "stdout",
     "output_type": "stream",
     "text": [
      "Tests Passed\n"
     ]
    }
   ],
   "source": [
    "def build_rnn(cell, inputs):\n",
    "    \"\"\"\n",
    "    Create a RNN using a RNN Cell\n",
    "    :param cell: RNN Cell\n",
    "    :param inputs: Input text data\n",
    "    :return: Tuple (Outputs, Final State)\n",
    "    \"\"\"\n",
    "    # TODO: Implement Function\n",
    "    out, final_state = tf.nn.dynamic_rnn(cell, inputs, dtype=tf.float32)\n",
    "    # AE: BTW: <out> is outputs for each time step\n",
    "    final_state = tf.identity(input=final_state, name='final_state')\n",
    "    return (out, final_state)\n",
    "\n",
    "\n",
    "\"\"\"\n",
    "DON'T MODIFY ANYTHING IN THIS CELL THAT IS BELOW THIS LINE\n",
    "\"\"\"\n",
    "tests.test_build_rnn(build_rnn)"
   ]
  },
  {
   "cell_type": "markdown",
   "metadata": {},
   "source": [
    "### Build the Neural Network\n",
    "Apply the functions you implemented above to:\n",
    "- Apply embedding to `input_data` using your `get_embed(input_data, vocab_size, embed_dim)` function.\n",
    "- Build RNN using `cell` and your `build_rnn(cell, inputs)` function.\n",
    "- Apply a fully connected layer with a linear activation and `vocab_size` as the number of outputs.\n",
    "\n",
    "Return the logits and final state in the following tuple (Logits, FinalState) "
   ]
  },
  {
   "cell_type": "code",
   "execution_count": 7,
   "metadata": {},
   "outputs": [
    {
     "name": "stdout",
     "output_type": "stream",
     "text": [
      "Tests Passed\n"
     ]
    }
   ],
   "source": [
    "def build_nn(cell, rnn_size, input_data, vocab_size, embed_dim):\n",
    "    \"\"\"\n",
    "    Build part of the neural network\n",
    "    :param cell: RNN cell\n",
    "    :param rnn_size: Size of rnns\n",
    "    :param input_data: Input data\n",
    "    :param vocab_size: Vocabulary size\n",
    "    :param embed_dim: Number of embedding dimensions\n",
    "    :return: Tuple (Logits, FinalState)\n",
    "    \"\"\"\n",
    "    # TODO: Implement Function\n",
    "    embed = get_embed(input_data, vocab_size, embed_dim)\n",
    "    outputs, final_state = build_rnn(cell, embed)\n",
    "    # AE: <outputs> is the outputs tensor for each time step.\n",
    "    \n",
    "    logits = tf.contrib.layers.fully_connected(outputs, vocab_size, activation_fn=None)\n",
    "\n",
    "    return (logits, final_state)\n",
    "\n",
    "\n",
    "\"\"\"\n",
    "DON'T MODIFY ANYTHING IN THIS CELL THAT IS BELOW THIS LINE\n",
    "\"\"\"\n",
    "tests.test_build_nn(build_nn)"
   ]
  },
  {
   "cell_type": "markdown",
   "metadata": {},
   "source": [
    "### Batches\n",
    "Implement `get_batches` to create batches of input and targets using `int_text`.  The batches should be a Numpy array with the shape `(number of batches, 2, batch size, sequence length)`. Each batch contains two elements:\n",
    "- The first element is a single batch of **input** with the shape `[batch size, sequence length]`\n",
    "- The second element is a single batch of **targets** with the shape `[batch size, sequence length]`\n",
    "\n",
    "If you can't fill the last batch with enough data, drop the last batch.\n",
    "\n",
    "For example, `get_batches([1, 2, 3, 4, 5, 6, 7, 8, 9, 10, 11, 12, 13, 14, 15, 16, 17, 18, 19, 20], 3, 2)` would return a Numpy array of the following:\n",
    "```\n",
    "[\n",
    "  # First Batch\n",
    "  [\n",
    "    # Batch of Input\n",
    "    [[ 1  2], [ 7  8], [13 14]]\n",
    "    # Batch of targets\n",
    "    [[ 2  3], [ 8  9], [14 15]]\n",
    "  ]\n",
    "\n",
    "  # Second Batch\n",
    "  [\n",
    "    # Batch of Input\n",
    "    [[ 3  4], [ 9 10], [15 16]]\n",
    "    # Batch of targets\n",
    "    [[ 4  5], [10 11], [16 17]]\n",
    "  ]\n",
    "\n",
    "  # Third Batch\n",
    "  [\n",
    "    # Batch of Input\n",
    "    [[ 5  6], [11 12], [17 18]]\n",
    "    # Batch of targets\n",
    "    [[ 6  7], [12 13], [18  1]]\n",
    "  ]\n",
    "]\n",
    "```\n",
    "\n",
    "Notice that the last target value in the last batch is the first input value of the first batch. In this case, `1`. This is a common technique used when creating sequence batches, although it is rather unintuitive."
   ]
  },
  {
   "cell_type": "code",
   "execution_count": 8,
   "metadata": {},
   "outputs": [
    {
     "ename": "AssertionError",
     "evalue": "Batches returned wrong contents. For example, input sequence 1 in the first batch was [ 640.  641.  642.  643.  644.]",
     "output_type": "error",
     "traceback": [
      "\u001b[0;31m---------------------------------------------------------------------------\u001b[0m",
      "\u001b[0;31mAssertionError\u001b[0m                            Traceback (most recent call last)",
      "\u001b[0;32m<ipython-input-8-4e95591a0006>\u001b[0m in \u001b[0;36m<module>\u001b[0;34m()\u001b[0m\n\u001b[1;32m     97\u001b[0m \u001b[0mDON\u001b[0m\u001b[0;31m'\u001b[0m\u001b[0mT\u001b[0m \u001b[0mMODIFY\u001b[0m \u001b[0mANYTHING\u001b[0m \u001b[0mIN\u001b[0m \u001b[0mTHIS\u001b[0m \u001b[0mCELL\u001b[0m \u001b[0mTHAT\u001b[0m \u001b[0mIS\u001b[0m \u001b[0mBELOW\u001b[0m \u001b[0mTHIS\u001b[0m \u001b[0mLINE\u001b[0m\u001b[0;34m\u001b[0m\u001b[0m\n\u001b[1;32m     98\u001b[0m \"\"\"\n\u001b[0;32m---> 99\u001b[0;31m \u001b[0mtests\u001b[0m\u001b[0;34m.\u001b[0m\u001b[0mtest_get_batches\u001b[0m\u001b[0;34m(\u001b[0m\u001b[0mget_batches\u001b[0m\u001b[0;34m)\u001b[0m\u001b[0;34m\u001b[0m\u001b[0m\n\u001b[0m",
      "\u001b[0;32m/home/workspace/tv-script-generation/problem_unittests.py\u001b[0m in \u001b[0;36mtest_get_batches\u001b[0;34m(get_batches)\u001b[0m\n\u001b[1;32m     89\u001b[0m         \u001b[0;32mfor\u001b[0m \u001b[0mx\u001b[0m \u001b[0;32min\u001b[0m \u001b[0mrange\u001b[0m\u001b[0;34m(\u001b[0m\u001b[0mbatches\u001b[0m\u001b[0;34m.\u001b[0m\u001b[0mshape\u001b[0m\u001b[0;34m[\u001b[0m\u001b[0;36m2\u001b[0m\u001b[0;34m]\u001b[0m\u001b[0;34m)\u001b[0m\u001b[0;34m:\u001b[0m\u001b[0;34m\u001b[0m\u001b[0m\n\u001b[1;32m     90\u001b[0m             \u001b[0;32massert\u001b[0m \u001b[0mnp\u001b[0m\u001b[0;34m.\u001b[0m\u001b[0marray_equal\u001b[0m\u001b[0;34m(\u001b[0m\u001b[0mbatches\u001b[0m\u001b[0;34m[\u001b[0m\u001b[0;36m0\u001b[0m\u001b[0;34m,\u001b[0m\u001b[0;36m0\u001b[0m\u001b[0;34m,\u001b[0m\u001b[0mx\u001b[0m\u001b[0;34m]\u001b[0m\u001b[0;34m,\u001b[0m \u001b[0mnp\u001b[0m\u001b[0;34m.\u001b[0m\u001b[0marray\u001b[0m\u001b[0;34m(\u001b[0m\u001b[0mrange\u001b[0m\u001b[0;34m(\u001b[0m\u001b[0mx\u001b[0m \u001b[0;34m*\u001b[0m \u001b[0;36m35\u001b[0m\u001b[0;34m,\u001b[0m \u001b[0mx\u001b[0m \u001b[0;34m*\u001b[0m \u001b[0;36m35\u001b[0m \u001b[0;34m+\u001b[0m \u001b[0mbatches\u001b[0m\u001b[0;34m.\u001b[0m\u001b[0mshape\u001b[0m\u001b[0;34m[\u001b[0m\u001b[0;36m3\u001b[0m\u001b[0;34m]\u001b[0m\u001b[0;34m)\u001b[0m\u001b[0;34m)\u001b[0m\u001b[0;34m)\u001b[0m\u001b[0;34m,\u001b[0m\u001b[0;31m\\\u001b[0m\u001b[0;34m\u001b[0m\u001b[0m\n\u001b[0;32m---> 91\u001b[0;31m                 \u001b[0;34m'Batches returned wrong contents. For example, input sequence {} in the first batch was {}'\u001b[0m\u001b[0;34m.\u001b[0m\u001b[0mformat\u001b[0m\u001b[0;34m(\u001b[0m\u001b[0mx\u001b[0m\u001b[0;34m,\u001b[0m \u001b[0mbatches\u001b[0m\u001b[0;34m[\u001b[0m\u001b[0;36m0\u001b[0m\u001b[0;34m,\u001b[0m\u001b[0;36m0\u001b[0m\u001b[0;34m,\u001b[0m\u001b[0mx\u001b[0m\u001b[0;34m]\u001b[0m\u001b[0;34m)\u001b[0m\u001b[0;34m\u001b[0m\u001b[0m\n\u001b[0m\u001b[1;32m     92\u001b[0m             \u001b[0;32massert\u001b[0m \u001b[0mnp\u001b[0m\u001b[0;34m.\u001b[0m\u001b[0marray_equal\u001b[0m\u001b[0;34m(\u001b[0m\u001b[0mbatches\u001b[0m\u001b[0;34m[\u001b[0m\u001b[0;36m0\u001b[0m\u001b[0;34m,\u001b[0m\u001b[0;36m1\u001b[0m\u001b[0;34m,\u001b[0m\u001b[0mx\u001b[0m\u001b[0;34m]\u001b[0m\u001b[0;34m,\u001b[0m \u001b[0mnp\u001b[0m\u001b[0;34m.\u001b[0m\u001b[0marray\u001b[0m\u001b[0;34m(\u001b[0m\u001b[0mrange\u001b[0m\u001b[0;34m(\u001b[0m\u001b[0mx\u001b[0m \u001b[0;34m*\u001b[0m \u001b[0;36m35\u001b[0m \u001b[0;34m+\u001b[0m \u001b[0;36m1\u001b[0m\u001b[0;34m,\u001b[0m \u001b[0mx\u001b[0m \u001b[0;34m*\u001b[0m \u001b[0;36m35\u001b[0m \u001b[0;34m+\u001b[0m \u001b[0;36m1\u001b[0m \u001b[0;34m+\u001b[0m \u001b[0mbatches\u001b[0m\u001b[0;34m.\u001b[0m\u001b[0mshape\u001b[0m\u001b[0;34m[\u001b[0m\u001b[0;36m3\u001b[0m\u001b[0;34m]\u001b[0m\u001b[0;34m)\u001b[0m\u001b[0;34m)\u001b[0m\u001b[0;34m)\u001b[0m\u001b[0;34m,\u001b[0m\u001b[0;31m\\\u001b[0m\u001b[0;34m\u001b[0m\u001b[0m\n\u001b[1;32m     93\u001b[0m                 \u001b[0;34m'Batches returned wrong contents. For example, target sequence {} in the first batch was {}'\u001b[0m\u001b[0;34m.\u001b[0m\u001b[0mformat\u001b[0m\u001b[0;34m(\u001b[0m\u001b[0mx\u001b[0m\u001b[0;34m,\u001b[0m \u001b[0mbatches\u001b[0m\u001b[0;34m[\u001b[0m\u001b[0;36m0\u001b[0m\u001b[0;34m,\u001b[0m\u001b[0;36m1\u001b[0m\u001b[0;34m,\u001b[0m\u001b[0mx\u001b[0m\u001b[0;34m]\u001b[0m\u001b[0;34m)\u001b[0m\u001b[0;34m\u001b[0m\u001b[0m\n",
      "\u001b[0;31mAssertionError\u001b[0m: Batches returned wrong contents. For example, input sequence 1 in the first batch was [ 640.  641.  642.  643.  644.]"
     ]
    }
   ],
   "source": [
    "def get_batches(int_text, batch_size, seq_length):\n",
    "    \"\"\"\n",
    "    Return batches of input and target\n",
    "    :param int_text: Text with the words replaced by their ids\n",
    "    :param batch_size: The size of batch\n",
    "    :param seq_length: The length of sequence\n",
    "    :return: Batches as a Numpy array\n",
    "    \"\"\"\n",
    "    # TODO: Implement Function\n",
    "    number_of_batches = len(int_text) // (batch_size * seq_length)\n",
    "    # AE: truncating the text to what we will be using\n",
    "    usable_text = int_text[:(number_of_batches * batch_size * seq_length)]\n",
    "\n",
    "    # AE: First let's turn the usable text into some shape that resembles the required\n",
    "    # AE: split into batches. We're skipping the second parameter in the reshape function\n",
    "    # AE: of array because we're now only dealing with the inputs. We'll deal with\n",
    "    # AE: the outputs later.\n",
    "    split_inputs = np.array(usable_text).reshape(number_of_batches, batch_size, seq_length)\n",
    "\n",
    "    # AE: We now have an almost correct split for the inputs, but not quite what was\n",
    "    # AE: required in the task. For example this is what we get on the example input\n",
    "    # AE: as given in the task rules:\n",
    "    # usable_text.reshape(3, 1, 3, 2)\n",
    "    # array([[[[ 1,  2],\n",
    "    #          [ 3,  4],\n",
    "    #          [ 5,  6]]],\n",
    "    #\n",
    "    #        [[[ 7,  8],\n",
    "    #          [ 9, 10],\n",
    "    #          [11, 12]]],\n",
    "    #\n",
    "    #        [[[13, 14],\n",
    "    #          [15, 16],\n",
    "    #          [17, 18]]]])\n",
    "    #\n",
    "    # AE: What may be obvious now, is that the the result that we want is almost a transpose of\n",
    "    # AE: the tensor that we have here. What we want is this:\n",
    "    # [[[  1.   2.]\n",
    "    #   [  7.   8.]\n",
    "    #   [ 13.  14.]]\n",
    "    #\n",
    "    #  [[  3.   4.]\n",
    "    #   [  9.  10.]\n",
    "    #   [ 15.  16.]]\n",
    "    #\n",
    "    #  [[  5.   6.]\n",
    "    #   [ 11.  12.]\n",
    "    #   [ 17.  18.]]]\n",
    "    #\n",
    "    # AE: So if only we could treat the most inner rows as single units (e.g. tuples (1, 2), (3, 4), etc)\n",
    "    # AE: instead of each value being separate, then the transpose would actually work. Sadly this is a 3D\n",
    "    # AE: tensor and doing a transpose like <split_inputs.T> will transpose all 3 dimensions and yield this:\n",
    "    #\n",
    "    # [[[  1.   7.  13.]\n",
    "    #   [  3.   9.  15.]\n",
    "    #   [  5.  11.  17.]]\n",
    "    #\n",
    "    #  [[  2.   8.  14.]\n",
    "    #   [  4.  10.  16.]\n",
    "    #   [  6.  12.  18.]]]\n",
    "    #\n",
    "    # AE: But we really want to leave the 3rd dimension alone and treat it as a unitary element. So we only\n",
    "    # AE: want to transpose the first two dimensions. After some research it turns out that it is possible.\n",
    "    # AE: by using text_splits_rs.transpose(1, 0, 2)\n",
    "    inputs = split_inputs.transpose(1, 0, 2).reshape(number_of_batches, batch_size, seq_length)\n",
    "    #print(\"AE: \", inputs, \" :AE\")\n",
    "\n",
    "    # AE: Now we want to prepare targets (the same as <usable_text> only shifted to the right by 1).\n",
    "    # AE: Why on earth we need to rotate the targets and not use some of the values tha were dropped\n",
    "    # AE: from the full set, I don't know, but the task requires this.\n",
    "    #print(usable_text)\n",
    "    usable_targets = usable_text[1:] + [usable_text[0]]\n",
    "    #print(usable_targets)\n",
    "    # AE: And now we organise this data into the correct shape just as before with the inputs:\n",
    "    split_targets = np.array(usable_targets).reshape(number_of_batches, batch_size, seq_length)\n",
    "    targets = split_targets.transpose(1, 0, 2).reshape(number_of_batches, batch_size, seq_length)\n",
    "    #print(\"AE: \", targets, \" :AE\")\n",
    "\n",
    "    # AE: Now we need to combine the inputs and targets into a unified data structure\n",
    "\n",
    "    # AE: Our final data structure, where we'll be storing the input data and output data as\n",
    "    # AE: per spec in the task rules:\n",
    "    final_data = np.ndarray((number_of_batches, 2, batch_size, seq_length))\n",
    "\n",
    "    # AE: Now let's iterate through batches and batch sizes and put the data where it belongs\n",
    "    for nb in range(number_of_batches):\n",
    "        for bs in range(batch_size):\n",
    "            final_data[nb, 0, bs] = inputs[nb, bs]\n",
    "            final_data[nb, 1, bs] = targets[nb, bs]\n",
    "\n",
    "    return final_data\n",
    "\n",
    "#print(\"$1\", get_batches([1, 2, 3, 4, 5, 6, 7, 8, 9, 10, 11, 12, 13, 14, 15, 16, 17, 18, 19, 20], 3, 2))\n",
    "#print(\"$2\", get_batches([1, 2, 3, 4, 5, 6, 7, 8, 9, 10, 11, 12, 13, 14, 15, 16, 17, 18, 19, 20], 2, 3))\n",
    "\n",
    "\"\"\"\n",
    "DON'T MODIFY ANYTHING IN THIS CELL THAT IS BELOW THIS LINE\n",
    "\"\"\"\n",
    "tests.test_get_batches(get_batches)"
   ]
  },
  {
   "cell_type": "markdown",
   "metadata": {},
   "source": [
    "### Yes, my \"get_batches\" algorithm really fails the unit test, but here is why I think that is OK: ###\n",
    "When I was designing my algorithm, I only had the task description and the one example that was given in the task description: get_batches([1, 2, 3, 4, 5, 6, 7, 8, 9, 10, 11, 12, 13, 14, 15, 16, 17, 18, 19, 20], 3, 2).\n",
    "\n",
    "I designed my algorithm so that it would give the same result as in the example. I also tried it on several other test data myself and all of the results made perfect sense to me. That's why it was much to my surprise to see that it failed the unit tests with an error message: AssertionError: Batches returned wrong contents. For example, input sequence 1 in the first batch was [ 640.  641.  642.  643.  644.]\n",
    "\n",
    "I looked through the mentoring discussion board and saw that someone else (Karen B.) has had a similar problem and it was suggested to her to try a different example: get_batches([1, 2, 3, 4, 5, 6, 7, 8, 9, 10, 11, 12, 13, 14, 15, 16, 17, 18, 19, 20], 2, 3) and compare it to the result provided. When I tried that example, I did indeed get a different result to what was given, however I don't think that only one of the results can be called correct and the other wrong. For example my algorithm gives the following result on the above test:\n",
    "\n",
    "[[[[  1.   2.   3.]\n",
    "   [  7.   8.   9.]]\n",
    "\n",
    "  [[  2.   3.   4.]\n",
    "   [  8.   9.  10.]]]\n",
    "\n",
    "\n",
    " [[[ 13.  14.  15.]\n",
    "   [  4.   5.   6.]]\n",
    "\n",
    "  [[ 14.  15.  16.]\n",
    "   [  5.   6.   7.]]]\n",
    "\n",
    "\n",
    " [[[ 10.  11.  12.]\n",
    "   [ 16.  17.  18.]]\n",
    "\n",
    "  [[ 11.  12.  13.]\n",
    "   [ 17.  18.   1.]]]]\n",
    "   \n",
    "while this is expected:\n",
    "\n",
    "[[[[ 1  2  3]\n",
    "   [10 11 12]]\n",
    "\n",
    "  [[ 2  3  4]\n",
    "   [11 12 13]]]\n",
    "\n",
    "\n",
    " [[[ 4  5  6]\n",
    "   [13 14 15]]\n",
    "\n",
    "  [[ 5  6  7]\n",
    "   [14 15 16]]]\n",
    "\n",
    "\n",
    " [[[ 7  8  9]\n",
    "   [16 17 18]]\n",
    "\n",
    "  [[ 8  9 10]\n",
    "   [17 18  1]]]]\n",
    "   \n",
    "It is easy to see that both of them provide the same sequences with the correct targets, it's just that some of the sequences are in different batches.\n",
    "\n",
    "The task does not state any specific requirements in this case, therefore I don't think that my algorithm is wrong. Moreover I think that the unit test is too specific and tests the algorithm to match a specific implementation, rather than the more generic idea that data should be split into batches of the correct shape and with the correct targets.\n",
    "\n",
    "I believe that I have a very neat and elegant solution that took quite a bit of research to implement and I would really hate to change it just because of someone's arbitrary idea of which sequences belong to which batch in a subset of cases. After playing around with \"for\" loops and iterations, I came to a conclusion that batches can indeed be prepared with the help of numpy's \"reshape\" and \"transpose\" methods and I would really like to keep this solution as it is much shorter and more readable than doing it with \"for\" loops.\n",
    "\n",
    "Also, if we isolate either the inputs or targets and look at the two matrices again (inputs in this case):\n",
    "\n",
    "[  1.   2.   3.] [  7.   8.   9.]\n",
    "\n",
    "[ 13.  14.  15.] [  4.   5.   6.]\n",
    "\n",
    "[ 10.  11.  12.] [ 16.  17.  18.]\n",
    "\n",
    "VS.:\n",
    "\n",
    "[ 1  2  3] [10 11 12]\n",
    "\n",
    "[ 4  5  6] [13 14 15]\n",
    "\n",
    "[ 7  8  9] [16 17 18]\n",
    "\n",
    "Then we can see that the second matrix can be acquired from the first one by flipping it diagonally (diagonal from upper left to lower right corner). If I could rotate it that way, then it would be identical to what is expected in the unit test. Unfortunately I couldn't find an easy way in numpy to transform a matrix in such a way. There are only rot90(), fliplr() and flipud() and they are not suitable. Either way though, this doesn't change the training sequences, nor the targets and RNN will still train on perfectly valid batches and sequences, just maybe in a different order and that is why I think that my algorithm is OK."
   ]
  },
  {
   "cell_type": "markdown",
   "metadata": {},
   "source": [
    "## Neural Network Training\n",
    "### Hyperparameters\n",
    "Tune the following parameters:\n",
    "\n",
    "- Set `num_epochs` to the number of epochs.\n",
    "- Set `batch_size` to the batch size.\n",
    "- Set `rnn_size` to the size of the RNNs.\n",
    "- Set `embed_dim` to the size of the embedding.\n",
    "- Set `seq_length` to the length of sequence.\n",
    "- Set `learning_rate` to the learning rate.\n",
    "- Set `show_every_n_batches` to the number of batches the neural network should print progress."
   ]
  },
  {
   "cell_type": "code",
   "execution_count": 9,
   "metadata": {},
   "outputs": [],
   "source": [
    "# AE: Let's start with the same hyperparameters as in Anna Karenina text generation mini-project\n",
    "#num_epochs = 20\n",
    "#batch_size = 10\n",
    "#rnn_size = 128\n",
    "#embed_dim = 200\n",
    "#seq_length = 50\n",
    "#learning_rate = 0.01\n",
    "#show_every_n_batches = 5\n",
    "## AE: This give us loss = 3.2. Need more epochs and maybe smaller embed_dim because we don't need this long sentences.\n",
    "\n",
    "#num_epochs = 80\n",
    "#batch_size = 10\n",
    "#rnn_size = 128\n",
    "#embed_dim = 100\n",
    "#seq_length = 50\n",
    "#learning_rate = 0.01\n",
    "#show_every_n_batches = 50\n",
    "## AE: now we get loss of 1.2 - 1.3. Good, but maybe we can increase RNN size and get better performance.\n",
    "## AE: Also, maybe training on sequences of 50 words is excessive too, because our lines are not going to\n",
    "## AE: be that long.\n",
    "\n",
    "#num_epochs = 80\n",
    "#batch_size = 10\n",
    "#rnn_size = 256\n",
    "#embed_dim = 100\n",
    "#seq_length = 30\n",
    "#learning_rate = 0.01\n",
    "#show_every_n_batches = 50\n",
    "## AE: Now we get loss of 0.9. Excellent and the objective has been achieved, but only just. Let's increase the number\n",
    "## AE: of epochs to 100 and that should do it even better.\n",
    "\n",
    "#num_epochs = 100\n",
    "#batch_size = 10\n",
    "#rnn_size = 256\n",
    "#embed_dim = 100\n",
    "#seq_length = 30\n",
    "#learning_rate = 0.01\n",
    "#show_every_n_batches = 50\n",
    "## AE: That gives loss = 0.836, but once again, it is kind of jumping above and below 1 at the end of training. I'd\n",
    "## AE: like a more confident result. Let's increase the RNN size.\n",
    "\n",
    "#num_epochs = 100\n",
    "#batch_size = 10\n",
    "#rnn_size = 512\n",
    "#embed_dim = 100\n",
    "#seq_length = 30\n",
    "#learning_rate = 0.01\n",
    "#show_every_n_batches = 50\n",
    "## AE: That give loss of 0.783 - 0.940 and it stays under 1 for a long time, before training ends. This will probably \n",
    "## AE: be the winner, but let's play around a little more. Maybe change rnn_size back to 256 and embed_dim to 200.\n",
    "\n",
    "#num_epochs = 100\n",
    "#batch_size = 10\n",
    "#rnn_size = 256\n",
    "#embed_dim = 200\n",
    "#seq_length = 30\n",
    "#learning_rate = 0.01\n",
    "#show_every_n_batches = 50\n",
    "## AE: That doesn't get the loss quite below 1. Ok, Let's have 512 for rnn_size and increase the batch_size instead so that more\n",
    "## AE: context can be trained on.\n",
    "\n",
    "#num_epochs = 100\n",
    "#batch_size = 50\n",
    "#rnn_size = 512\n",
    "#embed_dim = 200\n",
    "#seq_length = 30\n",
    "#learning_rate = 0.01\n",
    "#show_every_n_batches = 50\n",
    "## AE: Ok, now we have the real winner. Training loss = 0.114 :)\n",
    "\n",
    "# Number of Epochs\n",
    "num_epochs = 100\n",
    "# Batch Size\n",
    "batch_size = 50\n",
    "# RNN Size\n",
    "rnn_size = 512\n",
    "# Embedding Dimension Size\n",
    "embed_dim = 200\n",
    "# Sequence Length\n",
    "seq_length = 30\n",
    "# Learning Rate\n",
    "learning_rate = 0.01\n",
    "# Show stats for every n number of batches\n",
    "show_every_n_batches = 50\n",
    "\n",
    "\n",
    "\n",
    "\"\"\"\n",
    "DON'T MODIFY ANYTHING IN THIS CELL THAT IS BELOW THIS LINE\n",
    "\"\"\"\n",
    "save_dir = './save'"
   ]
  },
  {
   "cell_type": "markdown",
   "metadata": {},
   "source": [
    "### Build the Graph\n",
    "Build the graph using the neural network you implemented."
   ]
  },
  {
   "cell_type": "code",
   "execution_count": 10,
   "metadata": {},
   "outputs": [],
   "source": [
    "\"\"\"\n",
    "DON'T MODIFY ANYTHING IN THIS CELL\n",
    "\"\"\"\n",
    "from tensorflow.contrib import seq2seq\n",
    "\n",
    "train_graph = tf.Graph()\n",
    "with train_graph.as_default():\n",
    "    vocab_size = len(int_to_vocab)\n",
    "    input_text, targets, lr = get_inputs()\n",
    "    input_data_shape = tf.shape(input_text)\n",
    "    cell, initial_state = get_init_cell(input_data_shape[0], rnn_size)\n",
    "    logits, final_state = build_nn(cell, rnn_size, input_text, vocab_size, embed_dim)\n",
    "\n",
    "    # Probabilities for generating words\n",
    "    probs = tf.nn.softmax(logits, name='probs')\n",
    "\n",
    "    # Loss function\n",
    "    cost = seq2seq.sequence_loss(\n",
    "        logits,\n",
    "        targets,\n",
    "        tf.ones([input_data_shape[0], input_data_shape[1]]))\n",
    "\n",
    "    # Optimizer\n",
    "    optimizer = tf.train.AdamOptimizer(lr)\n",
    "\n",
    "    # Gradient Clipping\n",
    "    gradients = optimizer.compute_gradients(cost)\n",
    "    capped_gradients = [(tf.clip_by_value(grad, -1., 1.), var) for grad, var in gradients if grad is not None]\n",
    "    train_op = optimizer.apply_gradients(capped_gradients)"
   ]
  },
  {
   "cell_type": "markdown",
   "metadata": {},
   "source": [
    "## Train\n",
    "Train the neural network on the preprocessed data.  If you have a hard time getting a good loss, check the [forums](https://discussions.udacity.com/) to see if anyone is having the same problem."
   ]
  },
  {
   "cell_type": "code",
   "execution_count": 11,
   "metadata": {},
   "outputs": [
    {
     "name": "stdout",
     "output_type": "stream",
     "text": [
      "Epoch   0 Batch    0/46   train_loss = 8.822\n",
      "Epoch   1 Batch    4/46   train_loss = 6.565\n",
      "Epoch   2 Batch    8/46   train_loss = 6.096\n",
      "Epoch   3 Batch   12/46   train_loss = 5.344\n",
      "Epoch   4 Batch   16/46   train_loss = 4.863\n",
      "Epoch   5 Batch   20/46   train_loss = 4.595\n",
      "Epoch   6 Batch   24/46   train_loss = 4.423\n",
      "Epoch   7 Batch   28/46   train_loss = 4.295\n",
      "Epoch   8 Batch   32/46   train_loss = 4.430\n",
      "Epoch   9 Batch   36/46   train_loss = 4.146\n",
      "Epoch  10 Batch   40/46   train_loss = 4.115\n",
      "Epoch  11 Batch   44/46   train_loss = 3.889\n",
      "Epoch  13 Batch    2/46   train_loss = 3.986\n",
      "Epoch  14 Batch    6/46   train_loss = 3.593\n",
      "Epoch  15 Batch   10/46   train_loss = 3.490\n",
      "Epoch  16 Batch   14/46   train_loss = 3.525\n",
      "Epoch  17 Batch   18/46   train_loss = 3.313\n",
      "Epoch  18 Batch   22/46   train_loss = 3.308\n",
      "Epoch  19 Batch   26/46   train_loss = 3.190\n",
      "Epoch  20 Batch   30/46   train_loss = 3.199\n",
      "Epoch  21 Batch   34/46   train_loss = 3.161\n",
      "Epoch  22 Batch   38/46   train_loss = 2.998\n",
      "Epoch  23 Batch   42/46   train_loss = 2.665\n",
      "Epoch  25 Batch    0/46   train_loss = 2.460\n",
      "Epoch  26 Batch    4/46   train_loss = 2.314\n",
      "Epoch  27 Batch    8/46   train_loss = 2.110\n",
      "Epoch  28 Batch   12/46   train_loss = 1.900\n",
      "Epoch  29 Batch   16/46   train_loss = 1.879\n",
      "Epoch  30 Batch   20/46   train_loss = 1.718\n",
      "Epoch  31 Batch   24/46   train_loss = 1.555\n",
      "Epoch  32 Batch   28/46   train_loss = 1.503\n",
      "Epoch  33 Batch   32/46   train_loss = 1.377\n",
      "Epoch  34 Batch   36/46   train_loss = 1.309\n",
      "Epoch  35 Batch   40/46   train_loss = 1.276\n",
      "Epoch  36 Batch   44/46   train_loss = 1.158\n",
      "Epoch  38 Batch    2/46   train_loss = 1.124\n",
      "Epoch  39 Batch    6/46   train_loss = 0.908\n",
      "Epoch  40 Batch   10/46   train_loss = 0.916\n",
      "Epoch  41 Batch   14/46   train_loss = 0.803\n",
      "Epoch  42 Batch   18/46   train_loss = 0.873\n",
      "Epoch  43 Batch   22/46   train_loss = 0.783\n",
      "Epoch  44 Batch   26/46   train_loss = 0.797\n",
      "Epoch  45 Batch   30/46   train_loss = 0.744\n",
      "Epoch  46 Batch   34/46   train_loss = 0.664\n",
      "Epoch  47 Batch   38/46   train_loss = 0.668\n",
      "Epoch  48 Batch   42/46   train_loss = 0.602\n",
      "Epoch  50 Batch    0/46   train_loss = 0.492\n",
      "Epoch  51 Batch    4/46   train_loss = 0.437\n",
      "Epoch  52 Batch    8/46   train_loss = 0.449\n",
      "Epoch  53 Batch   12/46   train_loss = 0.405\n",
      "Epoch  54 Batch   16/46   train_loss = 0.424\n",
      "Epoch  55 Batch   20/46   train_loss = 0.369\n",
      "Epoch  56 Batch   24/46   train_loss = 0.321\n",
      "Epoch  57 Batch   28/46   train_loss = 0.316\n",
      "Epoch  58 Batch   32/46   train_loss = 0.274\n",
      "Epoch  59 Batch   36/46   train_loss = 0.315\n",
      "Epoch  60 Batch   40/46   train_loss = 0.257\n",
      "Epoch  61 Batch   44/46   train_loss = 0.274\n",
      "Epoch  63 Batch    2/46   train_loss = 0.239\n",
      "Epoch  64 Batch    6/46   train_loss = 0.248\n",
      "Epoch  65 Batch   10/46   train_loss = 0.248\n",
      "Epoch  66 Batch   14/46   train_loss = 0.235\n",
      "Epoch  67 Batch   18/46   train_loss = 0.272\n",
      "Epoch  68 Batch   22/46   train_loss = 0.250\n",
      "Epoch  69 Batch   26/46   train_loss = 0.269\n",
      "Epoch  70 Batch   30/46   train_loss = 0.259\n",
      "Epoch  71 Batch   34/46   train_loss = 0.315\n",
      "Epoch  72 Batch   38/46   train_loss = 0.474\n",
      "Epoch  73 Batch   42/46   train_loss = 0.774\n",
      "Epoch  75 Batch    0/46   train_loss = 1.133\n",
      "Epoch  76 Batch    4/46   train_loss = 1.488\n",
      "Epoch  77 Batch    8/46   train_loss = 1.506\n",
      "Epoch  78 Batch   12/46   train_loss = 1.230\n",
      "Epoch  79 Batch   16/46   train_loss = 1.072\n",
      "Epoch  80 Batch   20/46   train_loss = 0.774\n",
      "Epoch  81 Batch   24/46   train_loss = 0.640\n",
      "Epoch  82 Batch   28/46   train_loss = 0.524\n",
      "Epoch  83 Batch   32/46   train_loss = 0.355\n",
      "Epoch  84 Batch   36/46   train_loss = 0.321\n",
      "Epoch  85 Batch   40/46   train_loss = 0.238\n",
      "Epoch  86 Batch   44/46   train_loss = 0.218\n",
      "Epoch  88 Batch    2/46   train_loss = 0.163\n",
      "Epoch  89 Batch    6/46   train_loss = 0.137\n",
      "Epoch  90 Batch   10/46   train_loss = 0.140\n",
      "Epoch  91 Batch   14/46   train_loss = 0.120\n",
      "Epoch  92 Batch   18/46   train_loss = 0.132\n",
      "Epoch  93 Batch   22/46   train_loss = 0.114\n",
      "Epoch  94 Batch   26/46   train_loss = 0.116\n",
      "Epoch  95 Batch   30/46   train_loss = 0.113\n",
      "Epoch  96 Batch   34/46   train_loss = 0.109\n",
      "Epoch  97 Batch   38/46   train_loss = 0.117\n",
      "Epoch  98 Batch   42/46   train_loss = 0.114\n",
      "Model Trained and Saved\n"
     ]
    }
   ],
   "source": [
    "\"\"\"\n",
    "DON'T MODIFY ANYTHING IN THIS CELL\n",
    "\"\"\"\n",
    "batches = get_batches(int_text, batch_size, seq_length)\n",
    "\n",
    "with tf.Session(graph=train_graph) as sess:\n",
    "    sess.run(tf.global_variables_initializer())\n",
    "\n",
    "    for epoch_i in range(num_epochs):\n",
    "        state = sess.run(initial_state, {input_text: batches[0][0]})\n",
    "\n",
    "        for batch_i, (x, y) in enumerate(batches):\n",
    "            feed = {\n",
    "                input_text: x,\n",
    "                targets: y,\n",
    "                initial_state: state,\n",
    "                lr: learning_rate}\n",
    "            train_loss, state, _ = sess.run([cost, final_state, train_op], feed)\n",
    "\n",
    "            # Show every <show_every_n_batches> batches\n",
    "            if (epoch_i * len(batches) + batch_i) % show_every_n_batches == 0:\n",
    "                print('Epoch {:>3} Batch {:>4}/{}   train_loss = {:.3f}'.format(\n",
    "                    epoch_i,\n",
    "                    batch_i,\n",
    "                    len(batches),\n",
    "                    train_loss))\n",
    "\n",
    "    # Save Model\n",
    "    saver = tf.train.Saver()\n",
    "    saver.save(sess, save_dir)\n",
    "    print('Model Trained and Saved')"
   ]
  },
  {
   "cell_type": "markdown",
   "metadata": {},
   "source": [
    "## Save Parameters\n",
    "Save `seq_length` and `save_dir` for generating a new TV script."
   ]
  },
  {
   "cell_type": "code",
   "execution_count": 12,
   "metadata": {},
   "outputs": [],
   "source": [
    "\"\"\"\n",
    "DON'T MODIFY ANYTHING IN THIS CELL\n",
    "\"\"\"\n",
    "# Save parameters for checkpoint\n",
    "helper.save_params((seq_length, save_dir))"
   ]
  },
  {
   "cell_type": "markdown",
   "metadata": {},
   "source": [
    "# Checkpoint"
   ]
  },
  {
   "cell_type": "code",
   "execution_count": 2,
   "metadata": {},
   "outputs": [],
   "source": [
    "\"\"\"\n",
    "DON'T MODIFY ANYTHING IN THIS CELL\n",
    "\"\"\"\n",
    "import tensorflow as tf\n",
    "import numpy as np\n",
    "import helper\n",
    "import problem_unittests as tests\n",
    "\n",
    "_, vocab_to_int, int_to_vocab, token_dict = helper.load_preprocess()\n",
    "seq_length, load_dir = helper.load_params()"
   ]
  },
  {
   "cell_type": "markdown",
   "metadata": {},
   "source": [
    "## Implement Generate Functions\n",
    "### Get Tensors\n",
    "Get tensors from `loaded_graph` using the function [`get_tensor_by_name()`](https://www.tensorflow.org/api_docs/python/tf/Graph#get_tensor_by_name).  Get the tensors using the following names:\n",
    "- \"input:0\"\n",
    "- \"initial_state:0\"\n",
    "- \"final_state:0\"\n",
    "- \"probs:0\"\n",
    "\n",
    "Return the tensors in the following tuple `(InputTensor, InitialStateTensor, FinalStateTensor, ProbsTensor)` "
   ]
  },
  {
   "cell_type": "code",
   "execution_count": 3,
   "metadata": {},
   "outputs": [
    {
     "name": "stdout",
     "output_type": "stream",
     "text": [
      "Tests Passed\n"
     ]
    }
   ],
   "source": [
    "def get_tensors(loaded_graph):\n",
    "    \"\"\"\n",
    "    Get input, initial state, final state, and probabilities tensor from <loaded_graph>\n",
    "    :param loaded_graph: TensorFlow graph loaded from file\n",
    "    :return: Tuple (InputTensor, InitialStateTensor, FinalStateTensor, ProbsTensor)\n",
    "    \"\"\"\n",
    "    # TODO: Implement Function\n",
    "    input_ = loaded_graph.get_tensor_by_name(\"input:0\")\n",
    "    initial_state = loaded_graph.get_tensor_by_name(\"initial_state:0\")\n",
    "    final_state = loaded_graph.get_tensor_by_name(\"final_state:0\")\n",
    "    probabilities = loaded_graph.get_tensor_by_name(\"probs:0\")\n",
    "    return (input_, initial_state, final_state, probabilities)\n",
    "\n",
    "\n",
    "\"\"\"\n",
    "DON'T MODIFY ANYTHING IN THIS CELL THAT IS BELOW THIS LINE\n",
    "\"\"\"\n",
    "tests.test_get_tensors(get_tensors)"
   ]
  },
  {
   "cell_type": "markdown",
   "metadata": {},
   "source": [
    "### Choose Word\n",
    "Implement the `pick_word()` function to select the next word using `probabilities`."
   ]
  },
  {
   "cell_type": "code",
   "execution_count": 5,
   "metadata": {},
   "outputs": [
    {
     "name": "stdout",
     "output_type": "stream",
     "text": [
      "Tests Passed\n"
     ]
    }
   ],
   "source": [
    "def pick_word(probabilities, int_to_vocab):\n",
    "    \"\"\"\n",
    "    Pick the next word in the generated text\n",
    "    :param probabilities: Probabilites of the next word\n",
    "    :param int_to_vocab: Dictionary of word ids as the keys and words as the values\n",
    "    :return: String of the predicted word\n",
    "    \"\"\"\n",
    "    # TODO: Implement Function\n",
    "    #print(\"P: \", probabilities)\n",
    "    #print(\"V: \", int_to_vocab)\n",
    "    best_guess_index = np.argmax(probabilities)\n",
    "    return int_to_vocab[best_guess_index]\n",
    "\n",
    "\n",
    "\n",
    "\"\"\"\n",
    "DON'T MODIFY ANYTHING IN THIS CELL THAT IS BELOW THIS LINE\n",
    "\"\"\"\n",
    "tests.test_pick_word(pick_word)"
   ]
  },
  {
   "cell_type": "markdown",
   "metadata": {},
   "source": [
    "## Generate TV Script\n",
    "This will generate the TV script for you.  Set `gen_length` to the length of TV script you want to generate."
   ]
  },
  {
   "cell_type": "code",
   "execution_count": 19,
   "metadata": {},
   "outputs": [
    {
     "name": "stdout",
     "output_type": "stream",
     "text": [
      "INFO:tensorflow:Restoring parameters from ./save\n",
      "homer_simpson:(reluctant) all right, i'm sorry...(bitter) but i will not save the rainforest.\n",
      "peter_buck: good enough. let's eat. moe? i don't know.\n",
      "moe_szyslak: nah, it's an american bank. i'm gonna good about a beer.\n",
      "moe_szyslak:(to self) i need a feeling moe i got a woman. who's which they don't make a baby for me.\n",
      "moe_szyslak: you know what i have. i've got a great job i ever heard?(takes out)\n",
      "homer_simpson:(\" the clincher\") and i mean, i'm really talking about?\n",
      "homer_simpson: well, i gotta pay for the money and the best thing--(laughs)\n",
      "homer_simpson:(excited) oh, absolutely.\n",
      "moe_szyslak: well, the people are a man who is drunk.\n",
      "lenny_leonard:(to self) pass 'em a name.\n",
      "\n",
      "\n",
      "moe_szyslak: eh, how would you like to tell you my buddy.\n",
      "homer_simpson: i think i'll have to get... my dad's gonna take you in\n"
     ]
    }
   ],
   "source": [
    "gen_length = 200\n",
    "# homer_simpson, moe_szyslak, or Barney_Gumble\n",
    "prime_word = 'homer_simpson'\n",
    "\n",
    "\"\"\"\n",
    "DON'T MODIFY ANYTHING IN THIS CELL THAT IS BELOW THIS LINE\n",
    "\"\"\"\n",
    "loaded_graph = tf.Graph()\n",
    "with tf.Session(graph=loaded_graph) as sess:\n",
    "    # Load saved model\n",
    "    loader = tf.train.import_meta_graph(load_dir + '.meta')\n",
    "    loader.restore(sess, load_dir)\n",
    "\n",
    "    # Get Tensors from loaded model\n",
    "    input_text, initial_state, final_state, probs = get_tensors(loaded_graph)\n",
    "\n",
    "    # Sentences generation setup\n",
    "    gen_sentences = [prime_word + ':']\n",
    "    prev_state = sess.run(initial_state, {input_text: np.array([[1]])})\n",
    "\n",
    "    # Generate sentences\n",
    "    for n in range(gen_length):\n",
    "        # Dynamic Input\n",
    "        dyn_input = [[vocab_to_int[word] for word in gen_sentences[-seq_length:]]]\n",
    "        dyn_seq_length = len(dyn_input[0])\n",
    "\n",
    "        # Get Prediction\n",
    "        probabilities, prev_state = sess.run(\n",
    "            [probs, final_state],\n",
    "            {input_text: dyn_input, initial_state: prev_state})\n",
    "        \n",
    "        pred_word = pick_word(probabilities[0][dyn_seq_length-1], int_to_vocab)\n",
    "\n",
    "        gen_sentences.append(pred_word)\n",
    "    \n",
    "    # Remove tokens\n",
    "    tv_script = ' '.join(gen_sentences)\n",
    "    for key, token in token_dict.items():\n",
    "        ending = ' ' if key in ['\\n', '(', '\"'] else ''\n",
    "        tv_script = tv_script.replace(' ' + token.lower(), key)\n",
    "    tv_script = tv_script.replace('\\n ', '\\n')\n",
    "    tv_script = tv_script.replace('( ', '(')\n",
    "        \n",
    "    print(tv_script)"
   ]
  },
  {
   "cell_type": "markdown",
   "metadata": {},
   "source": [
    "# The TV Script is Nonsensical\n",
    "It's ok if the TV script doesn't make any sense.  We trained on less than a megabyte of text.  In order to get good results, you'll have to use a smaller vocabulary or get more data.  Luckily there's more data!  As we mentioned in the beggining of this project, this is a subset of [another dataset](https://www.kaggle.com/wcukierski/the-simpsons-by-the-data).  We didn't have you train on all the data, because that would take too long.  However, you are free to train your neural network on all the data.  After you complete the project, of course.\n",
    "# Submitting This Project\n",
    "When submitting this project, make sure to run all the cells before saving the notebook. Save the notebook file as \"dlnd_tv_script_generation.ipynb\" and save it as a HTML file under \"File\" -> \"Download as\". Include the \"helper.py\" and \"problem_unittests.py\" files in your submission."
   ]
  }
 ],
 "metadata": {
  "kernelspec": {
   "display_name": "Python 3",
   "language": "python",
   "name": "python3"
  },
  "language_info": {
   "codemirror_mode": {
    "name": "ipython",
    "version": 3
   },
   "file_extension": ".py",
   "mimetype": "text/x-python",
   "name": "python",
   "nbconvert_exporter": "python",
   "pygments_lexer": "ipython3",
   "version": "3.6.3"
  },
  "widgets": {
   "state": {},
   "version": "1.1.2"
  }
 },
 "nbformat": 4,
 "nbformat_minor": 1
}
